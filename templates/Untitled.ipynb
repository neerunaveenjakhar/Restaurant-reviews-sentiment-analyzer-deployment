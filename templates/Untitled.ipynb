{
 "cells": [
  {
   "cell_type": "code",
   "execution_count": 6,
   "metadata": {},
   "outputs": [
    {
     "name": "stdout",
     "output_type": "stream",
     "text": [
      "<!DOCTYPE html>\r\n",
      "\r\n",
      "<html lang=\"en\" dir=\"ltr\">\r\n",
      "    <head>\r\n",
      "        <meta charset=\"utf-8\">\r\n",
      "        <title>Restaurant Review - Sentiment Analyser</title>\r\n",
      "        <link rel=\"shortcut icon\" href=\"{{ url_for('static', filename='food-favicon.ico') }}\">\r\n",
      "        <link rel=\"stylesheet\" type=\"text/css\" href=\"{{ url_for('static', filename='styles.css') }}\">\r\n",
      "        <script src=\"https://kit.fontawesome.com/5f3f547070.js\" crossorigin=\"anonymous\"></script>\r\n",
      "        <link href=\"https://fonts.googleapis.com/css2?family=Yatra+One&display=swap\" rel=\"stylesheet\">\r\n",
      "    </head>\r\n",
      "\r\n",
      "    <body>\r\n",
      "\r\n",
      "        <!-- Website Title -->\r\n",
      "    \t<div class=\"container\">\r\n",
      "            <h2 class='container-heading'><span class=\"heading_font\">Restaurant Review's</span> Sentiment Analyser</h2>\r\n",
      "            <div class='description'>\r\n",
      "    \t\t\t<p>A Machine Learning Web App, Built with Flask, Deployed using Heroku.</p>\r\n",
      "    \t\t</div>\r\n",
      "    \t</div>\r\n",
      "\r\n",
      "        <!-- Text Area -->\r\n",
      "    \t<div class=\"ml-container\">\r\n",
      "    \t\t<form action=\"{{ url_for('predict') }}\" method=\"POST\">\r\n",
      "        \t\t<textarea class='message-box' name=\"message\" rows=\"15\" cols=\"75\" placeholder=\"Enter Your Review Here...\"></textarea><br/>\r\n",
      "        \t\t<input type=\"submit\" class=\"my-cta-button\" value=\"Predict\">\r\n",
      "        \t</form>\r\n",
      "    \t</div>\r\n",
      "\r\n",
      "        <!-- Footer -->\r\n",
      "        <div class='footer'>\r\n",
      "            <div class=\"contact\">\r\n",
      "                <a target=\"_blank\" href=\"https://github.com/anujvyas/Restaurant-Reviews-Sentiment-Analysis-Deployment\"><i class=\"fab fa-github fa-lg contact-icon\"></i></a>\r\n",
      "                <a target=\"_blank\" href=\"https://www.linkedin.com/in/anujkvyas\"><i class=\"fab fa-linkedin fa-lg contact-icon\"></i></a>\r\n",
      "            </div>\r\n",
      "            <p class='footer-description'>Made with ❤️ by Anuj Vyas.</p>\r\n",
      "        </div>\r\n",
      "\r\n",
      "    </body>\r\n",
      "</html>\r\n",
      "\n"
     ]
    }
   ],
   "source": [
    "import codecs\n",
    "file = codecs.open(\"index.html\", \"r\", \"utf-8\")\n",
    "print(file.read())"
   ]
  },
  {
   "cell_type": "code",
   "execution_count": null,
   "metadata": {},
   "outputs": [],
   "source": []
  }
 ],
 "metadata": {
  "kernelspec": {
   "display_name": "Python 3",
   "language": "python",
   "name": "python3"
  },
  "language_info": {
   "codemirror_mode": {
    "name": "ipython",
    "version": 3
   },
   "file_extension": ".py",
   "mimetype": "text/x-python",
   "name": "python",
   "nbconvert_exporter": "python",
   "pygments_lexer": "ipython3",
   "version": "3.7.4"
  }
 },
 "nbformat": 4,
 "nbformat_minor": 2
}
